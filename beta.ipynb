{
 "cells": [
  {
   "cell_type": "code",
   "execution_count": 1,
   "metadata": {},
   "outputs": [],
   "source": [
    "import settings\n",
    "\n",
    "import time\n",
    "import datetime\n",
    "import numpy as np\n",
    "import pandas as pd\n",
    "\n",
    "import plotly.plotly as py\n",
    "import plotly.graph_objs as go\n",
    "import plotly.tools as tls\n",
    "tls.set_credentials_file(username=settings.plotly_name, api_key=settings.plotly_key)\n",
    "tls.set_config_file(world_readable=True,sharing='public')\n",
    "\n",
    "from poloniex import Poloniex\n",
    "polo = Poloniex()"
   ]
  },
  {
   "cell_type": "code",
   "execution_count": 2,
   "metadata": {},
   "outputs": [],
   "source": [
    "def loadPolo(pair, period, start, end):\n",
    "    dates = []\n",
    "    data={'price':[],'volume':[]}\n",
    "    raw = polo.returnChartData(currencyPair=pair,period=period,start=start,end=end)\n",
    "    for i in range(len(raw)):\n",
    "        dates.append( datetime.datetime.fromtimestamp(int(raw[i]['date'])))\n",
    "        data['price'].append( float(raw[i]['weightedAverage']))\n",
    "        data['volume'].append( float(raw[i]['volume'] ))\n",
    "    return pd.DataFrame( data, index=dates )"
   ]
  },
  {
   "cell_type": "code",
   "execution_count": 3,
   "metadata": {},
   "outputs": [],
   "source": [
    "def rollingMean(data,length):\n",
    "    dates = []\n",
    "    means = []\n",
    "    for i in range( length, len(data) ):\n",
    "        total = 0\n",
    "        totVol = 0\n",
    "        for j in range(length):\n",
    "            date = data.index[i-j]\n",
    "            total += data.price[date] * data.volume[date]\n",
    "            totVol +=  data.volume[date]\n",
    "        means.append( total / totVol )\n",
    "        dates.append( data.index[i] )\n",
    "    return pd.Series(means,index=dates)"
   ]
  },
  {
   "cell_type": "code",
   "execution_count": 4,
   "metadata": {},
   "outputs": [],
   "source": [
    "def macd(data,length1,length2):\n",
    "    data['mean1'] = rollingMean(data,length1)\n",
    "    data['mean2'] = rollingMean(data,length2)\n",
    "    data['macd'] = data['mean1'] - data['mean2']\n",
    "    data['sig1'] = data['macd'] / data['mean2']\n",
    "    data['sig2'] = data['sig1'] - data['sig1'].rolling(window=length1,center=False).mean()\n",
    "    return data"
   ]
  },
  {
   "cell_type": "code",
   "execution_count": 5,
   "metadata": {},
   "outputs": [],
   "source": [
    "def macdTest(data):\n",
    "    cash = 1.0\n",
    "    cashes = []\n",
    "    dates = []\n",
    "    paid = False\n",
    "    for i in range(len(data)):\n",
    "        signal = data.iloc[i]['sig1']\n",
    "        if not signal: continue\n",
    "        price = data.iloc[i]['price']\n",
    "        if not paid and 0 < signal: paid = price\n",
    "        if paid and 0 > signal:\n",
    "            cash *= 1.0 * price / paid\n",
    "            paid = False\n",
    "        cashes.append(cash)\n",
    "        dates.append(data.index[i])\n",
    "    data['cash']=pd.Series(cashes,index=dates)\n",
    "    return data"
   ]
  },
  {
   "cell_type": "code",
   "execution_count": 6,
   "metadata": {},
   "outputs": [],
   "source": [
    "def runMacdTest(pair,period,start,end,length1,length2):\n",
    "    return macdTest( macd( loadPolo(pair,period,start,end),length1,length2))"
   ]
  },
  {
   "cell_type": "code",
   "execution_count": 7,
   "metadata": {
    "scrolled": true
   },
   "outputs": [],
   "source": [
    "def macdTestGraph(data, filename):\n",
    "    fig = tls.make_subplots(rows=5, cols=1, shared_xaxes=True)\n",
    "    hover_text = data.apply(lambda r: '<br>'.join(['{}: {}'.format(c, r[c]) for c in data.columns]), axis=1)\n",
    "    fig.append_trace({'x': data.index, 'y': data['price'], 'type': 'scatter', 'name': 'price', 'text': hover_text}, 1, 1)\n",
    "    fig.append_trace({'x': data.index, 'y': data['mean1'], 'type': 'scatter', 'name': 'mean1', 'text': hover_text}, 1, 1)\n",
    "    fig.append_trace({'x': data.index, 'y': data['mean2'], 'type': 'scatter', 'name': 'mean2', 'text': hover_text}, 1, 1)\n",
    "    fig.append_trace({'x': data.index, 'y': data['cash'], 'type': 'scatter', 'name': 'cash', 'text': hover_text}, 2, 1)\n",
    "    fig.append_trace({'x': data.index, 'y': data['sig1'], 'type': 'bar', 'name': 'sig1', 'text': hover_text}, 3, 1)\n",
    "    fig.append_trace({'x': data.index, 'y': data['sig2'], 'type': 'bar', 'name': 'sig2', 'text': hover_text}, 4, 1)\n",
    "    fig.append_trace({'x': data.index, 'y': data['volume'], 'type': 'bar', 'name': 'volume', 'text': hover_text}, 5, 1)\n",
    "    return py.iplot(fig, filename=filename)"
   ]
  },
  {
   "cell_type": "code",
   "execution_count": null,
   "metadata": {},
   "outputs": [],
   "source": [
    "def macdHeat(pair,period,start,end,length1,length2, delta):\n",
    "    data = loadPolo(pair,period,start,end)\n",
    "    heat = np.full((length2 - length1,length2-length1),1.0)\n",
    "    for i in range(length1, length2 - delta):\n",
    "        for j in range( i + delta, length2):\n",
    "            point = macdTest( macd( data, i, j) )\n",
    "            heat[i - length1][j - length1] = point.iloc[len(point) - 1]['cash']\n",
    "    return heat"
   ]
  },
  {
   "cell_type": "code",
   "execution_count": null,
   "metadata": {},
   "outputs": [],
   "source": [
    "heat = macdHeat('USDT_BTC',86400,time.mktime(datetime.date(2015,5,1).timetuple()),time.time(),5,50,2)\n",
    "py.iplot( [ go.Heatmap(z=heat,x=[5,6],y=[7,6]) ] , filename='heat_usdt_btc')"
   ]
  },
  {
   "cell_type": "code",
   "execution_count": null,
   "metadata": {},
   "outputs": [],
   "source": [
    "data = runMacdTest('USDT_BTC',86400,time.mktime(datetime.date(2015,5,1).timetuple()),time.time(),11,21)\n",
    "macdTestGraph(data,'max_usdt_btc')"
   ]
  },
  {
   "cell_type": "code",
   "execution_count": null,
   "metadata": {},
   "outputs": [],
   "source": [
    "heat = macdHeat('BTC_ETH',86400,time.mktime(datetime.date(2015,8,10).timetuple()),time.time(),5,50,2)\n",
    "py.iplot( [ go.Heatmap(z=heat,x=[5,6],y=[7,8])] , filename='heat_btc_eth')"
   ]
  },
  {
   "cell_type": "code",
   "execution_count": null,
   "metadata": {},
   "outputs": [],
   "source": [
    "data = runMacdTest('BTC_ETH',86400,time.mktime(datetime.date(2015,5,1).timetuple()),time.time(),20,31)\n",
    "macdTestGraph(data,'max_btc_eth')"
   ]
  },
  {
   "cell_type": "code",
   "execution_count": null,
   "metadata": {
    "scrolled": true
   },
   "outputs": [],
   "source": [
    "heat = macdHeat('USDT_ETH',86400,time.mktime(datetime.date(2015,8,10).timetuple()),time.time(),5,50,2)\n",
    "py.iplot( [ go.Heatmap(z=heat,x=[5,6],y=[7,8])] , filename='heat_usdt_eth')"
   ]
  },
  {
   "cell_type": "code",
   "execution_count": null,
   "metadata": {},
   "outputs": [],
   "source": [
    "data = runMacdTest('USDT_ETH',86400,time.mktime(datetime.date(2015,8,10).timetuple()),time.time(),15,32)\n",
    "macdTestGraph(data,'max_btc_eth')"
   ]
  },
  {
   "cell_type": "code",
   "execution_count": null,
   "metadata": {},
   "outputs": [],
   "source": [
    "heat = macdHeat('BTC_NMC',86400,time.mktime(datetime.date(2015,8,10).timetuple()),time.time(),5,50,2)\n",
    "py.iplot( [ go.Heatmap(z=heat,x=[5,6],y=[7,8])] , filename='heat_btc_nmc')"
   ]
  }
 ],
 "metadata": {
  "kernelspec": {
   "display_name": "Python 2",
   "language": "python",
   "name": "python2"
  },
  "language_info": {
   "codemirror_mode": {
    "name": "ipython",
    "version": 2
   },
   "file_extension": ".py",
   "mimetype": "text/x-python",
   "name": "python",
   "nbconvert_exporter": "python",
   "pygments_lexer": "ipython2",
   "version": "2.7.12"
  }
 },
 "nbformat": 4,
 "nbformat_minor": 2
}
