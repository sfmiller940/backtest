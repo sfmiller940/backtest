{
 "cells": [
  {
   "cell_type": "code",
   "execution_count": 45,
   "metadata": {},
   "outputs": [],
   "source": [
    "import time\n",
    "import datetime\n",
    "import settings\n",
    "\n",
    "import plotly\n",
    "plotly.tools.set_credentials_file(username=settings.plotly_name, api_key=settings.plotly_key)\n",
    "plotly.tools.set_config_file(world_readable=True,sharing='public')\n",
    "\n",
    "import numpy as np\n",
    "import plotly.plotly as py\n",
    "import plotly.tools as tls\n",
    "import plotly.graph_objs as go\n",
    "import cufflinks as cf\n",
    "import pandas as pd\n",
    "\n",
    "from poloniex import Poloniex\n",
    "polo = Poloniex()"
   ]
  },
  {
   "cell_type": "code",
   "execution_count": 2,
   "metadata": {},
   "outputs": [],
   "source": [
    "def loadPolo(pair, period, start, end):\n",
    "    dates = []\n",
    "    data={'prices':[],'volumes':[]}\n",
    "    raw = polo.returnChartData(currencyPair=pair,period=period,start=start,end=end)\n",
    "    for i in range(len(raw)):\n",
    "        dates.append( datetime.datetime.fromtimestamp(int(raw[i]['date'])))\n",
    "        data['prices'].append( float(raw[i]['weightedAverage']))\n",
    "        data['volumes'].append( float(raw[i]['volume'] ))\n",
    "    return pd.DataFrame( data, index=dates )"
   ]
  },
  {
   "cell_type": "code",
   "execution_count": 3,
   "metadata": {},
   "outputs": [],
   "source": [
    "def rollingMean(data,length):\n",
    "    dates = []\n",
    "    means = []\n",
    "    for i in range( length, len(data) ):\n",
    "        total = 0\n",
    "        totVol = 0\n",
    "        for j in range(length):\n",
    "            date = data.index[i-j]\n",
    "            total += data.prices[date] * data.volumes[date]\n",
    "            totVol +=  data.volumes[date]\n",
    "        means.append( total / totVol )\n",
    "        dates.append( data.index[i] )\n",
    "    return pd.Series(means,index=dates)"
   ]
  },
  {
   "cell_type": "code",
   "execution_count": 4,
   "metadata": {},
   "outputs": [],
   "source": [
    "def macd(data,length1,length2):\n",
    "    data['mean1'] = rollingMean(data,length1)\n",
    "    data['mean2'] = rollingMean(data,length2)\n",
    "    data['macd'] = ( data['mean1'] - data['mean2'] ) / data['mean2']\n",
    "    return data"
   ]
  },
  {
   "cell_type": "code",
   "execution_count": null,
   "metadata": {},
   "outputs": [],
   "source": [
    "def macdTest(data):\n",
    "    cash = 1.0\n",
    "    cashes = []\n",
    "    paid = False\n",
    "    for i in range(len(data)):\n",
    "        level = data.iloc[i]['macd']\n",
    "        if not level: continue\n",
    "        price = data.iloc[i]['prices']\n",
    "        if not paid and 0 < level: paid = price\n",
    "        if paid and 0 > level:\n",
    "            cash *= 1.0 * price / paid\n",
    "            paid = False\n",
    "        cashes.append(cash)\n",
    "    data['cash']=cashes\n",
    "    return data"
   ]
  },
  {
   "cell_type": "code",
   "execution_count": 6,
   "metadata": {},
   "outputs": [],
   "source": [
    "def runMacdTest(pair,period,start,end,length1,length2):\n",
    "    return macdTest( macd( loadPolo(pair,period,start,end),length1,length2))"
   ]
  },
  {
   "cell_type": "code",
   "execution_count": 7,
   "metadata": {
    "scrolled": true
   },
   "outputs": [],
   "source": [
    "def macdTestGraph(data):\n",
    "    fig = tls.make_subplots(rows=4, cols=1, shared_xaxes=True)\n",
    "    hover_text = data.apply(lambda r: '<br>'.join(['{}: {}'.format(c, r[c]) for c in data.columns]), axis=1)\n",
    "    for col in data.columns:\n",
    "        if col not in ['macd','volumes','cash']:\n",
    "            fig.append_trace({'x': data.index, 'y': data[col], 'type': 'scatter', 'name': col, 'text': hover_text}, 1, 1)\n",
    "    fig.append_trace({'x': data.index, 'y': data['cash'], 'type': 'scatter', 'name': 'cash', 'text': hover_text}, 2, 1)\n",
    "    fig.append_trace({'x': data.index, 'y': data['macd'], 'type': 'bar', 'name': 'macd', 'text': hover_text}, 3, 1)\n",
    "    fig.append_trace({'x': data.index, 'y': data['volumes'], 'type': 'bar', 'name': 'volumes', 'text': hover_text}, 4, 1)\n",
    "    return py.iplot(fig, filename='test3')"
   ]
  },
  {
   "cell_type": "code",
   "execution_count": 66,
   "metadata": {},
   "outputs": [
    {
     "name": "stdout",
     "output_type": "stream",
     "text": [
      "This is the format of your plot grid:\n",
      "[ (1,1) x1,y1 ]\n",
      "[ (2,1) x1,y2 ]\n",
      "[ (3,1) x1,y3 ]\n",
      "[ (4,1) x1,y4 ]\n",
      "\n"
     ]
    },
    {
     "data": {
      "text/html": [
       "<iframe id=\"igraph\" scrolling=\"no\" style=\"border:none;\" seamless=\"seamless\" src=\"https://plot.ly/~godelzilla/9.embed\" height=\"525px\" width=\"100%\"></iframe>"
      ],
      "text/plain": [
       "<plotly.tools.PlotlyDisplay object>"
      ]
     },
     "execution_count": 66,
     "metadata": {},
     "output_type": "execute_result"
    }
   ],
   "source": [
    "data = runMacdTest('USDT_BTC',86400,time.mktime(datetime.date(2015,5,1).timetuple()),time.time(),11,21)\n",
    "macdTestGraph(data)"
   ]
  },
  {
   "cell_type": "code",
   "execution_count": 57,
   "metadata": {},
   "outputs": [],
   "source": [
    "def macdHeat(pair,period,start,end,length1,length2, delta):\n",
    "    data = loadPolo(pair,period,start,end)\n",
    "    heat = np.full((length2 - length1,length2-length1),1.0)\n",
    "    for i in range(length1, length2 - delta):\n",
    "        for j in range( i + delta, length2):\n",
    "            point = macdTest( macd( data, i, j) )\n",
    "            heat[i - length1][j - length1] = point.iloc[len(point) - 1]['cash']\n",
    "    return heat"
   ]
  },
  {
   "cell_type": "code",
   "execution_count": 64,
   "metadata": {},
   "outputs": [
    {
     "data": {
      "text/html": [
       "<iframe id=\"igraph\" scrolling=\"no\" style=\"border:none;\" seamless=\"seamless\" src=\"https://plot.ly/~godelzilla/11.embed\" height=\"525px\" width=\"100%\"></iframe>"
      ],
      "text/plain": [
       "<plotly.tools.PlotlyDisplay object>"
      ]
     },
     "execution_count": 64,
     "metadata": {},
     "output_type": "execute_result"
    }
   ],
   "source": [
    "heat = macdHeat('USDT_BTC',86400,time.mktime(datetime.date(2015,5,1).timetuple()),time.time(),5,50,2)\n",
    "py.iplot( [ go.Heatmap(z=heat,x=[5,6],y=[7,6]) ] , filename='basic-heatmap')"
   ]
  },
  {
   "cell_type": "code",
   "execution_count": null,
   "metadata": {},
   "outputs": [],
   "source": []
  }
 ],
 "metadata": {
  "kernelspec": {
   "display_name": "Python 2",
   "language": "python",
   "name": "python2"
  },
  "language_info": {
   "codemirror_mode": {
    "name": "ipython",
    "version": 2
   },
   "file_extension": ".py",
   "mimetype": "text/x-python",
   "name": "python",
   "nbconvert_exporter": "python",
   "pygments_lexer": "ipython2",
   "version": "2.7.12"
  }
 },
 "nbformat": 4,
 "nbformat_minor": 2
}
